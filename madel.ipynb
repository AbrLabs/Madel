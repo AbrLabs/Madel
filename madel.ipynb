{
 "cells": [
  {
   "cell_type": "code",
   "execution_count": 1,
   "metadata": {},
   "outputs": [],
   "source": [
    "from typing import OrderedDict\n",
    "import numpy as np\n",
    "from data.data import generate_data"
   ]
  },
  {
   "cell_type": "code",
   "execution_count": 2,
   "metadata": {},
   "outputs": [],
   "source": [
    "X, y = generate_data()"
   ]
  },
  {
   "cell_type": "code",
   "execution_count": 3,
   "metadata": {},
   "outputs": [
    {
     "data": {
      "text/plain": [
       "array([[1, 0, 0, 0, 1, 1, 0, 0, 1, 1, 0, 1, 1, 0, 0, 0, 1, 0, 1, 0, 0, 1,\n",
       "        1, 0, 0, 1, 0, 1, 1, 0, 1, 1, 1, 0, 1, 0, 0, 0, 0, 0, 1, 1, 1, 1,\n",
       "        0, 1, 1, 1, 0, 0, 1, 1, 1, 0, 0, 1, 1, 0, 1, 0, 0, 0, 1, 1, 1, 0,\n",
       "        0, 0, 1, 0, 1, 1, 0, 1, 1, 0, 1, 0, 0, 1, 0, 1, 1, 0, 1, 0, 0, 0,\n",
       "        1, 0, 0, 0, 0, 0, 0, 1, 0, 1, 1, 0],\n",
       "       [1, 1, 1, 0, 1, 1, 0, 1, 0, 0, 1, 0, 0, 0, 0, 1, 0, 1, 0, 0, 0, 0,\n",
       "        0, 0, 0, 0, 0, 0, 0, 1, 0, 1, 0, 1, 1, 1, 0, 0, 0, 0, 1, 0, 0, 1,\n",
       "        1, 1, 0, 1, 0, 0, 1, 0, 0, 0, 0, 1, 1, 1, 0, 1, 0, 0, 0, 1, 0, 0,\n",
       "        0, 1, 1, 0, 1, 1, 1, 1, 0, 1, 0, 0, 0, 0, 0, 0, 0, 1, 1, 0, 0, 0,\n",
       "        1, 1, 0, 1, 1, 0, 1, 0, 1, 0, 1, 1],\n",
       "       [1, 1, 0, 0, 1, 1, 1, 1, 1, 1, 1, 1, 0, 0, 1, 1, 0, 1, 0, 0, 0, 0,\n",
       "        0, 1, 0, 0, 0, 1, 0, 1, 1, 0, 0, 0, 1, 1, 0, 0, 1, 0, 0, 1, 1, 0,\n",
       "        0, 0, 1, 1, 1, 1, 0, 0, 1, 1, 0, 0, 0, 0, 1, 1, 0, 1, 0, 0, 1, 0,\n",
       "        1, 0, 1, 1, 1, 0, 1, 1, 1, 1, 0, 0, 0, 1, 0, 1, 0, 1, 0, 0, 1, 0,\n",
       "        0, 1, 0, 1, 1, 0, 1, 0, 0, 0, 0, 0],\n",
       "       [0, 0, 1, 1, 1, 1, 1, 0, 1, 1, 0, 1, 0, 0, 1, 1, 1, 1, 1, 1, 1, 0,\n",
       "        1, 0, 0, 1, 1, 1, 0, 1, 0, 1, 0, 1, 0, 0, 0, 1, 1, 1, 1, 1, 0, 0,\n",
       "        1, 1, 1, 0, 1, 0, 1, 0, 1, 1, 1, 1, 1, 1, 1, 1, 0, 1, 0, 0, 0, 0,\n",
       "        1, 1, 0, 1, 0, 0, 0, 1, 1, 0, 0, 0, 0, 0, 0, 1, 0, 1, 1, 1, 1, 1,\n",
       "        1, 1, 1, 1, 0, 0, 0, 1, 0, 1, 0, 1],\n",
       "       [1, 1, 1, 1, 0, 1, 0, 1, 1, 0, 0, 0, 0, 0, 1, 0, 0, 1, 1, 1, 1, 1,\n",
       "        1, 1, 0, 1, 0, 0, 0, 1, 1, 0, 1, 0, 1, 1, 0, 1, 1, 1, 1, 1, 1, 1,\n",
       "        0, 0, 0, 0, 1, 1, 0, 1, 0, 1, 0, 1, 0, 1, 0, 0, 0, 1, 0, 1, 0, 0,\n",
       "        0, 0, 1, 0, 1, 0, 0, 0, 0, 0, 0, 0, 0, 1, 1, 0, 1, 0, 0, 0, 1, 1,\n",
       "        0, 0, 0, 1, 1, 1, 0, 0, 1, 1, 0, 1],\n",
       "       [1, 1, 0, 0, 0, 1, 1, 1, 1, 1, 0, 1, 0, 1, 1, 0, 0, 1, 1, 0, 0, 1,\n",
       "        1, 0, 0, 0, 0, 0, 1, 0, 0, 1, 1, 0, 0, 1, 1, 0, 0, 0, 0, 0, 1, 1,\n",
       "        1, 1, 0, 1, 0, 0, 1, 1, 1, 1, 1, 1, 0, 1, 0, 0, 1, 0, 0, 1, 1, 0,\n",
       "        1, 0, 1, 1, 0, 1, 0, 0, 1, 0, 0, 1, 0, 1, 1, 0, 1, 1, 1, 0, 1, 0,\n",
       "        1, 0, 0, 0, 1, 0, 1, 0, 0, 1, 1, 0],\n",
       "       [0, 0, 0, 0, 1, 0, 1, 0, 0, 1, 1, 0, 0, 1, 0, 1, 0, 0, 0, 1, 1, 0,\n",
       "        1, 0, 1, 1, 1, 1, 1, 1, 0, 1, 1, 0, 1, 0, 0, 0, 1, 0, 1, 1, 1, 1,\n",
       "        0, 0, 1, 0, 1, 0, 1, 0, 0, 0, 0, 1, 1, 1, 0, 1, 0, 1, 0, 1, 1, 0,\n",
       "        1, 1, 0, 0, 0, 0, 1, 1, 0, 0, 1, 1, 0, 1, 0, 0, 0, 0, 0, 0, 1, 0,\n",
       "        1, 0, 0, 0, 1, 1, 1, 0, 0, 0, 0, 1],\n",
       "       [0, 1, 0, 1, 0, 0, 1, 1, 1, 0, 0, 1, 0, 0, 0, 1, 1, 0, 0, 0, 1, 1,\n",
       "        0, 0, 0, 0, 0, 1, 0, 1, 0, 1, 1, 1, 1, 1, 0, 0, 1, 1, 1, 0, 0, 1,\n",
       "        0, 1, 1, 1, 1, 1, 1, 0, 0, 1, 1, 0, 0, 1, 1, 0, 0, 1, 1, 0, 0, 0,\n",
       "        1, 1, 0, 1, 0, 0, 0, 0, 0, 0, 0, 0, 0, 1, 1, 0, 0, 1, 1, 0, 0, 1,\n",
       "        0, 1, 0, 1, 1, 0, 1, 1, 1, 0, 0, 0],\n",
       "       [0, 1, 1, 0, 1, 0, 0, 1, 1, 0, 0, 0, 0, 1, 1, 1, 0, 1, 1, 0, 0, 0,\n",
       "        0, 1, 0, 0, 1, 1, 1, 0, 1, 0, 0, 0, 0, 1, 0, 0, 1, 1, 1, 0, 1, 1,\n",
       "        1, 1, 0, 1, 1, 1, 0, 0, 1, 0, 0, 1, 1, 0, 0, 1, 1, 0, 1, 0, 1, 0,\n",
       "        1, 0, 0, 0, 1, 0, 1, 1, 1, 0, 1, 0, 1, 1, 1, 1, 1, 1, 1, 1, 0, 0,\n",
       "        0, 1, 1, 0, 1, 0, 1, 1, 1, 0, 1, 0],\n",
       "       [1, 1, 1, 1, 0, 1, 0, 0, 0, 0, 1, 1, 0, 1, 0, 1, 0, 0, 1, 1, 0, 1,\n",
       "        0, 1, 1, 0, 0, 1, 1, 0, 0, 0, 1, 1, 0, 0, 1, 0, 1, 0, 0, 1, 0, 0,\n",
       "        0, 0, 1, 0, 0, 1, 1, 0, 0, 0, 0, 0, 1, 1, 1, 0, 1, 1, 1, 0, 1, 0,\n",
       "        0, 0, 1, 1, 0, 1, 1, 1, 1, 1, 1, 1, 1, 1, 1, 0, 1, 1, 0, 1, 0, 1,\n",
       "        1, 1, 0, 0, 1, 1, 0, 0, 0, 0, 0, 0]])"
      ]
     },
     "execution_count": 3,
     "metadata": {},
     "output_type": "execute_result"
    }
   ],
   "source": [
    "X"
   ]
  },
  {
   "cell_type": "code",
   "execution_count": 4,
   "metadata": {},
   "outputs": [
    {
     "data": {
      "text/plain": [
       "array([[1, 1, 0, 1, 1, 1, 0, 0, 0, 1],\n",
       "       [1, 1, 0, 1, 1, 0, 1, 0, 1, 0],\n",
       "       [0, 0, 1, 0, 1, 1, 1, 1, 1, 1],\n",
       "       [1, 1, 0, 1, 0, 0, 1, 0, 0, 0],\n",
       "       [1, 1, 1, 0, 1, 1, 1, 0, 1, 1],\n",
       "       [1, 0, 1, 0, 1, 1, 1, 1, 1, 0],\n",
       "       [0, 1, 1, 1, 1, 1, 1, 0, 0, 1],\n",
       "       [0, 0, 1, 0, 0, 1, 0, 1, 1, 0],\n",
       "       [0, 1, 1, 0, 1, 1, 0, 1, 1, 1],\n",
       "       [1, 0, 1, 0, 1, 0, 1, 0, 1, 1]])"
      ]
     },
     "execution_count": 4,
     "metadata": {},
     "output_type": "execute_result"
    }
   ],
   "source": [
    "y"
   ]
  },
  {
   "cell_type": "code",
   "execution_count": 5,
   "metadata": {},
   "outputs": [
    {
     "name": "stdout",
     "output_type": "stream",
     "text": [
      "(10, 100)\n",
      "(10, 10)\n"
     ]
    }
   ],
   "source": [
    "print(X.shape)\n",
    "print(y.shape)\n"
   ]
  },
  {
   "cell_type": "code",
   "execution_count": 6,
   "metadata": {},
   "outputs": [],
   "source": [
    "class Madel:\n",
    "    def __init__(self) -> None:\n",
    "        self.weights: OrderedDict = {}\n",
    "\n",
    "    def fit(self, X: np.ndarray, y: np.ndarray) -> None:\n",
    "        i, j = np.triu_indices(y.shape[0], 1)\n",
    "        k, z = np.triu_indices(X.shape[1], 1)\n",
    "        pairs = np.column_stack((k, z))\n",
    "\n",
    "        unique_pairs, counts = np.unique(pairs, axis=0, return_counts=True)\n",
    "        self.weights = {}\n",
    "\n",
    "        for pair, count in zip(unique_pairs, counts):\n",
    "            k, z = pair\n",
    "            self.weights[(k, z)] = np.sum(X[i, z] * y[i, j])\n",
    "\n",
    "    def predict(self, X: np.ndarray) -> np.ndarray:\n",
    "        result = np.zeros(X.shape[0])\n",
    "        for key, value in self.weights.items():\n",
    "            k, z = key\n",
    "            result += value * X[:, z]\n",
    "        return result\n",
    "\n",
    "    def score(self, X: np.ndarray, y: np.ndarray) -> float:\n",
    "        y_pred = self.predict(X)\n",
    "        mse = np.mean((y - y_pred) ** 2)\n",
    "        return -mse\n",
    "\n",
    "    def plot(self, X: np.ndarray, y: np.ndarray) -> None:\n",
    "        try:\n",
    "            import matplotlib.pyplot as plt\n",
    "        except ModuleNotFoundError:\n",
    "            raise ModuleNotFoundError(\n",
    "                \"matplotlib is not installed, install it using `pip install matplotlib`\"\n",
    "            )\n",
    "\n",
    "        y_pred = self.predict(X)\n",
    "        plt.scatter(X, y, label=\"Actual\")\n",
    "        plt.plot(X, y_pred, label=\"Predicted\", color=\"red\")\n",
    "        plt.legend()\n",
    "        plt.show()"
   ]
  },
  {
   "cell_type": "code",
   "execution_count": 7,
   "metadata": {},
   "outputs": [],
   "source": [
    "\n",
    "madel = Madel()\n",
    "madel.fit(X, y)"
   ]
  },
  {
   "cell_type": "code",
   "execution_count": 8,
   "metadata": {},
   "outputs": [],
   "source": [
    "with open(\"weights.txt\", \"w\") as f:\n",
    "    for key, value in madel.weights.items():\n",
    "        f.write(f\"{key[0]},{key[1]},{value}\\n\")"
   ]
  },
  {
   "cell_type": "code",
   "execution_count": 9,
   "metadata": {},
   "outputs": [
    {
     "data": {
      "text/plain": [
       "-1067353229.22"
      ]
     },
     "execution_count": 9,
     "metadata": {},
     "output_type": "execute_result"
    }
   ],
   "source": [
    "madel.score(X, y)"
   ]
  },
  {
   "cell_type": "code",
   "execution_count": 10,
   "metadata": {},
   "outputs": [],
   "source": [
    "class Madel3:\n",
    "    def __init__(self) -> None:\n",
    "        self.weights: OrderedDict = {}\n",
    "\n",
    "    def fit(self, X: np.ndarray, y: np.ndarray) -> None:\n",
    "        i, j = np.triu_indices(y.shape[0], 1)\n",
    "        k, z = np.triu_indices(X.shape[1], 1)\n",
    "        pairs = np.column_stack((k, z, k))\n",
    "\n",
    "        unique_pairs, counts = np.unique(pairs, axis=0, return_counts=True)\n",
    "        self.weights = {}\n",
    "\n",
    "        for pair, count in zip(unique_pairs, counts):\n",
    "            k, z = pair\n",
    "            self.weights[(k, z)] = np.sum(X[i, z] * y[i, j])\n",
    "\n",
    "    def predict(self, X: np.ndarray) -> np.ndarray:\n",
    "        result = np.zeros(X.shape[0])\n",
    "        for key, value in self.weights.items():\n",
    "            k, z = key\n",
    "            result += value * X[:, z]\n",
    "        return result\n",
    "\n",
    "    def score(self, X: np.ndarray, y: np.ndarray) -> float:\n",
    "        y_pred = self.predict(X)\n",
    "        mse = np.mean((y - y_pred) ** 2)\n",
    "        return -mse\n",
    "\n",
    "    def plot(self, X: np.ndarray, y: np.ndarray) -> None:\n",
    "        try:\n",
    "            import matplotlib.pyplot as plt\n",
    "        except ModuleNotFoundError:\n",
    "            raise ModuleNotFoundError(\n",
    "                \"matplotlib is not installed, install it using `pip install matplotlib`\"\n",
    "            )\n",
    "\n",
    "        y_pred = self.predict(X)\n",
    "        plt.scatter(X, y, label=\"Actual\")\n",
    "        plt.plot(X, y_pred, label=\"Predicted\", color=\"red\")\n",
    "        plt.legend()\n",
    "        plt.show()"
   ]
  }
 ],
 "metadata": {
  "kernelspec": {
   "display_name": "Python 3",
   "language": "python",
   "name": "python3"
  },
  "language_info": {
   "codemirror_mode": {
    "name": "ipython",
    "version": 3
   },
   "file_extension": ".py",
   "mimetype": "text/x-python",
   "name": "python",
   "nbconvert_exporter": "python",
   "pygments_lexer": "ipython3",
   "version": "3.12.1"
  }
 },
 "nbformat": 4,
 "nbformat_minor": 2
}
